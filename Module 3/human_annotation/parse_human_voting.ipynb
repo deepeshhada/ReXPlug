{
 "cells": [
  {
   "cell_type": "markdown",
   "metadata": {},
   "source": [
    "Files all have 3 columns of labels (indices are hard coded).\n",
    "\n",
    "This file uses voting to reduce noise. Currently, voting by row (best out of 3 labels) is working and is the default used. Voting by sample (best out of 9 labels) has problems with incomplete data; right now it just prints out info about incomplete samples."
   ]
  },
  {
   "cell_type": "code",
   "execution_count": 7,
   "metadata": {},
   "outputs": [],
   "source": [
    "import csv\n",
    "import numpy as np\n",
    "import matplotlib.pyplot as plt\n",
    "from scipy import stats\n",
    "from collections import defaultdict\n",
    "\n",
    "MAX_FILES=4"
   ]
  },
  {
   "cell_type": "code",
   "execution_count": 2,
   "metadata": {},
   "outputs": [],
   "source": [
    "def get_data(filename):\n",
    "    csvfile = open(filename)\n",
    "    reader = csv.reader(csvfile)\n",
    "\n",
    "    data = []\n",
    "    for i, row in enumerate(reader):\n",
    "        if i == 0:\n",
    "            headers = row\n",
    "        else:\n",
    "            data.append(row)\n",
    "    csvfile.close()\n",
    "    return headers, data"
   ]
  },
  {
   "cell_type": "markdown",
   "metadata": {},
   "source": [
    "# Get stats\n",
    "\n",
    "Run these cells in order to:\n",
    "* get stats for ontopicness and fluency to copy/paste\n",
    "* save percents for each topic for plotting"
   ]
  },
  {
   "cell_type": "markdown",
   "metadata": {},
   "source": [
    "## topics"
   ]
  },
  {
   "cell_type": "code",
   "execution_count": 3,
   "metadata": {
    "scrolled": true
   },
   "outputs": [],
   "source": [
    "# for topics\n",
    "def decode(st):\n",
    "    ints = [int(s) for s in st.split('_')]\n",
    "    # Version 2\n",
    "    ii, j1, j2 = ints[0], np.mod(ints[1], MAX_FILES), np.mod(ints[2], MAX_FILES)\n",
    "    return ii, j1, j2\n",
    "\n",
    "# p-value of two binomial distributions\n",
    "# one sided tail\n",
    "def two_samp(x1, x2, n1, n2):\n",
    "    p1 = x1/n1\n",
    "    p2 = x2/n2\n",
    "    phat = (x1 + x2) / (n1 + n2)\n",
    "    z = (p1 - p2) / np.sqrt(phat * (1-phat) * (1/n1 + 1/n2))\n",
    "    return stats.norm.sf(np.abs(z))\n",
    "\n",
    "def print_info_t(scores, counts):\n",
    "    percs = scores / counts\n",
    "    print('total counts, on topic counts, percentages:')\n",
    "    for i in range(MAX_FILES):\n",
    "        print('{},{},{}'.format(counts[i], scores[i], percs[i]))\n",
    "\n",
    "    pvalues = np.zeros((MAX_FILES, MAX_FILES))\n",
    "    for i in range(MAX_FILES):\n",
    "        for j in range(i, MAX_FILES):\n",
    "            dist_i = [1] * scores[i] + [0] * (counts[i] - scores[i])\n",
    "            dist_j = [1] * scores[j] + [0] * (counts[j] - scores[j])\n",
    "            pvalue = two_samp(scores[i], scores[j], counts[i], counts[j])\n",
    "            pvalues[i, j] = pvalue\n",
    "            pvalues[j, i] = pvalue\n",
    "    for row in pvalues:\n",
    "        print('{:.8f},{:.8f},{:.8f},{:.8f}'.format(row[0],row[1],row[2],row[3]))\n",
    "\n",
    "def get_counts_indices(data, order_index, label_indices):\n",
    "    scores = np.zeros(MAX_FILES, dtype=int)\n",
    "    counts = np.zeros(MAX_FILES, dtype=int)\n",
    "    skipped = 0\n",
    "    for rownum, row in enumerate(data):\n",
    "        order = row[order_index]\n",
    "        for label_index in label_indices:\n",
    "            label = row[label_index].lower()\n",
    "            if len(order) > 0 and len(label) > 0:\n",
    "                a_cat, b_cat = decode(order)[1:]\n",
    "                # print(label, order, a_cat, b_cat)\n",
    "                if label == 'a' or label == 'both':\n",
    "                    scores[a_cat] += 1\n",
    "                if label == 'b' or label == 'both':\n",
    "                    scores[b_cat] += 1\n",
    "                counts[a_cat] += 1\n",
    "                counts[b_cat] += 1\n",
    "                if label not in ['a', 'b', 'both', 'neither']:\n",
    "                    print('******invalid label: {}'.format(label))\n",
    "            else:\n",
    "                # print('empty label; skipping', rownum)\n",
    "                skipped += 1\n",
    "    print('skipped {}'.format(skipped))\n",
    "    print_info_t(scores, counts)\n",
    "    return scores, counts\n",
    "\n",
    "# vote by row. each row contributes to one count (and 0 or 1 score based on majority vote)\n",
    "def get_counts_vote_row(data, order_index, label_indices):\n",
    "    scores = np.zeros(MAX_FILES, dtype=int)\n",
    "    counts = np.zeros(MAX_FILES, dtype=int)\n",
    "    skipped = 0\n",
    "    for rownum, row in enumerate(data):\n",
    "        order = row[order_index]\n",
    "        if len(order) == 0:\n",
    "            skipped += 1\n",
    "        else:\n",
    "            a_cat, b_cat = decode(order)[1:]\n",
    "            row_score_a, row_score_b, row_counts = 0, 0, 0\n",
    "            for label_index in label_indices:\n",
    "                label = row[label_index].lower()\n",
    "                if len(label) > 0:\n",
    "                    if label == 'a' or label == 'both':\n",
    "                        row_score_a += 1\n",
    "                    if label == 'b' or label == 'both':\n",
    "                        row_score_b += 1\n",
    "                    row_counts += 1\n",
    "                    if label not in ['a', 'b', 'both', 'neither']:\n",
    "                        print('******invalid label: {}'.format(label))\n",
    "                else:\n",
    "                    print('empty label for nonempty prompt', rownum)\n",
    "            # update big points\n",
    "            if row_counts == 3:\n",
    "                scores[a_cat] += row_score_a // 2\n",
    "                scores[b_cat] += row_score_b // 2\n",
    "                counts[a_cat] += 1\n",
    "                counts[b_cat] += 1\n",
    "            else:\n",
    "                print('incomplete row...')\n",
    "    print('skipped {}'.format(skipped))\n",
    "    print_info_t(scores, counts)\n",
    "    return scores, counts\n",
    "\n",
    "# vote by sample. each sample contributes to one count (and 0 or 1 score based on majority vote)\n",
    "# each sample should appear 9 times\n",
    "def get_counts_vote_all(data, order_index, label_indices):\n",
    "    samples = defaultdict(list) # key = (sample string, category), value = votes (list of 9)\n",
    "    skipped = 0\n",
    "    for rownum, row in enumerate(data):\n",
    "        order = row[order_index]\n",
    "        if len(order) == 0:\n",
    "            skipped += 1\n",
    "        else:\n",
    "            a_cat, b_cat = decode(order)[1:]\n",
    "            sample_a, sample_b = row[0], row[1]\n",
    "            for label_index in label_indices:\n",
    "                label = row[label_index].lower()\n",
    "                if len(label) > 0:\n",
    "                    if label == 'a':\n",
    "                        samples[(sample_a, a_cat)].append(1)\n",
    "                        samples[(sample_b, b_cat)].append(0)\n",
    "                    elif label == 'b':\n",
    "                        samples[(sample_a, a_cat)].append(0)\n",
    "                        samples[(sample_b, b_cat)].append(1)\n",
    "                    elif label == 'both':\n",
    "                        samples[(sample_a, a_cat)].append(1)\n",
    "                        samples[(sample_b, b_cat)].append(1)\n",
    "                    elif label == 'neither':\n",
    "                        samples[(sample_a, a_cat)].append(0)\n",
    "                        samples[(sample_b, b_cat)].append(0)\n",
    "                    else:\n",
    "                        print('******invalid label: {}'.format(label))\n",
    "                else:\n",
    "                    print('empty label for nonempty prompt', rownum)\n",
    "    print('skipped {}'.format(skipped))\n",
    "    dist = np.zeros((MAX_FILES, 10), dtype=int)\n",
    "    for sample in samples:\n",
    "        cat = sample[1]\n",
    "        samp_scores = samples[sample]\n",
    "        if len(samp_scores) != 9:\n",
    "            print('something had {} votes'.format(len(samp_scores)))\n",
    "            print(sample)\n",
    "        dist[cat, np.array(samp_scores).sum()] += 1\n",
    "    print(dist)\n",
    "    scores = np.zeros(MAX_FILES, dtype=int)\n",
    "    counts = np.zeros(MAX_FILES, dtype=int)\n",
    "    #print_info_t(scores, counts)\n",
    "    return scores, counts"
   ]
  },
  {
   "cell_type": "markdown",
   "metadata": {},
   "source": [
    "## fluency"
   ]
  },
  {
   "cell_type": "code",
   "execution_count": 4,
   "metadata": {
    "scrolled": true
   },
   "outputs": [],
   "source": [
    "def print_info_f_lists(scorelist):\n",
    "    print('mean, stdev, min, max, counts:')\n",
    "    for i in range(MAX_FILES):\n",
    "        print('{},{},{},{},{}'.format(np.mean(scorelist[i]), np.std(scorelist[i]),\n",
    "                                   np.min(scorelist[i]), np.max(scorelist[i]), len(scorelist[i])))\n",
    "\n",
    "    pvalues = np.zeros((MAX_FILES, MAX_FILES))\n",
    "    for i in range(MAX_FILES):\n",
    "        for j in range(i, MAX_FILES):\n",
    "            pvalue = stats.ttest_ind(scorelist[i], scorelist[j]).pvalue\n",
    "            pvalues[i, j] = pvalue\n",
    "            pvalues[j, i] = pvalue\n",
    "    print('p-values')\n",
    "    for row in pvalues:\n",
    "        print('{:.8f},{:.8f},{:.8f},{:.8f}'.format(row[0],row[1],row[2],row[3]))\n",
    "\n",
    "def get_fluencies_indices(data, order_index, label_indices):\n",
    "    scorelist = [[], [], [], []]\n",
    "    skipped = 0\n",
    "    for r, row in enumerate(data):\n",
    "        order = row[order_index]\n",
    "        if len(order) == 0:\n",
    "            continue\n",
    "        for label_ind_pair in label_indices:\n",
    "            a_cat, b_cat = decode(order)[1:]\n",
    "            cats = decode(order)[1:]\n",
    "            for i, ind in enumerate(label_ind_pair):\n",
    "                label = row[ind]\n",
    "                if len(label) > 0:\n",
    "                    scorelist[cats[i]].append(int(label))\n",
    "                else:\n",
    "                    skipped += 1\n",
    "    print('skipped {}'.format(skipped))\n",
    "    print_info_f_lists(scorelist)\n",
    "    return scorelist"
   ]
  },
  {
   "cell_type": "markdown",
   "metadata": {},
   "source": [
    "## Run on all files"
   ]
  },
  {
   "cell_type": "code",
   "execution_count": 7,
   "metadata": {},
   "outputs": [],
   "source": [
    "# aggregated human labeled everything\n",
    "dirname = 'pplm_labeled_csvs/'\n",
    "# comment out any of the below if you don't want to include them in \"all\"\n",
    "file_info = [\n",
    "#     'computers.csv',\n",
    "#     'legal.csv',\n",
    "#     'military.csv',\n",
    "#     'politics.csv',\n",
    "#     'religion.csv',\n",
    "#     'science.csv',\n",
    "#     'space.csv',\n",
    "     'negative.csv',\n",
    "     'positive.csv',\n",
    "#     'clickbait.csv'\n",
    "]"
   ]
  },
  {
   "cell_type": "code",
   "execution_count": 8,
   "metadata": {
    "scrolled": true
   },
   "outputs": [
    {
     "name": "stdout",
     "output_type": "stream",
     "text": [
      "negative.csv\n",
      "skipped 718\n",
      "total counts, on topic counts, percentages:\n",
      "135,47,0.34814814814814815\n",
      "135,51,0.37777777777777777\n",
      "135,74,0.5481481481481482\n",
      "135,98,0.725925925925926\n",
      "0.50000000,0.30634075,0.00047632,0.00000000\n",
      "0.30634075,0.50000000,0.00249884,0.00000000\n",
      "0.00047632,0.00249884,0.50000000,0.00119276\n",
      "0.00000000,0.00000000,0.00119276,0.50000000\n",
      "\n",
      "positive.csv\n",
      "skipped 7\n",
      "total counts, on topic counts, percentages:\n",
      "135,5,0.037037037037037035\n",
      "135,56,0.4148148148148148\n",
      "135,38,0.2814814814814815\n",
      "135,101,0.7481481481481481\n",
      "0.50000000,0.00000000,0.00000002,0.00000000\n",
      "0.00000000,0.50000000,0.01073817,0.00000001\n",
      "0.00000002,0.01073817,0.50000000,0.00000000\n",
      "0.00000000,0.00000001,0.00000000,0.50000000\n",
      "\n",
      "all:\n",
      "total counts, on topic counts, percentages:\n",
      "270,52,0.1925925925925926\n",
      "270,107,0.3962962962962963\n",
      "270,112,0.4148148148148148\n",
      "270,199,0.737037037037037\n",
      "0.50000000,0.00000010,0.00000001,0.00000000\n",
      "0.00000010,0.50000000,0.33061336,0.00000000\n",
      "0.00000001,0.33061336,0.50000000,0.00000000\n",
      "0.00000000,0.00000000,0.00000000,0.50000000\n",
      "\n",
      "------------\n",
      "\n",
      "negative.csv\n",
      "skipped 0\n",
      "mean, stdev, min, max, counts:\n",
      "3.6666666666666665,1.070363962559315,1,5,405\n",
      "2.8444444444444446,1.2102443381502312,1,5,405\n",
      "3.7111111111111112,0.9952975856248306,1,5,405\n",
      "3.237037037037037,1.1124929678728444,1,5,405\n",
      "p-values\n",
      "1.00000000,0.00000000,0.54124461,0.00000003\n",
      "0.00000000,1.00000000,0.00000000,0.00000189\n",
      "0.54124461,0.00000000,1.00000000,0.00000000\n",
      "0.00000003,0.00000189,0.00000000,1.00000000\n",
      "\n",
      "positive.csv\n",
      "skipped 0\n",
      "mean, stdev, min, max, counts:\n",
      "3.414814814814815,1.0707227409225366,1,5,405\n",
      "2.7358024691358023,1.1339114693135512,1,5,405\n",
      "3.585185185185185,1.1378028546619214,1,5,405\n",
      "3.3333333333333335,1.0183501544346312,1,5,405\n",
      "p-values\n",
      "1.00000000,0.00000000,0.02868005,0.26804308\n",
      "0.00000000,1.00000000,0.00000000,0.00000000\n",
      "0.02868005,0.00000000,1.00000000,0.00095671\n",
      "0.26804308,0.00000000,0.00095671,1.00000000\n",
      "\n",
      "all:\n",
      "mean, stdev, min, max, counts:\n",
      "3.5407407407407407,1.0779241341381478,1,5,810\n",
      "2.7901234567901234,1.173956583027028,1,5,810\n",
      "3.6481481481481484,1.070780390518426,1,5,810\n",
      "3.285185185185185,1.0675472188488335,1,5,810\n",
      "p-values\n",
      "1.00000000,0.00000000,0.04452420,0.00000181\n",
      "0.00000000,1.00000000,0.00000000,0.00000000\n",
      "0.04452420,0.00000000,1.00000000,0.00000000\n",
      "0.00000181,0.00000000,0.00000000,1.00000000\n",
      "total counts\n",
      "810\n",
      "810\n",
      "810\n",
      "810\n"
     ]
    }
   ],
   "source": [
    "# hardcoded indices\n",
    "category_index = -1 # index of encoded seed and methods\n",
    "topic_indices = [2, 6, 10]\n",
    "fluency_indices = [(3,4), (7,8), (11,12)]\n",
    "\n",
    "all_scores = np.zeros(MAX_FILES, dtype=int)\n",
    "all_counts = np.zeros(MAX_FILES, dtype=int)\n",
    "percs_ordered = np.zeros((len(file_info), MAX_FILES)) # percents saved in same order as file names\n",
    "for i, fname in enumerate(file_info):\n",
    "    filename = dirname + fname\n",
    "    headers, data = get_data(filename)\n",
    "    print(fname)\n",
    "    scores, counts = get_counts_vote_row(data, category_index, topic_indices)\n",
    "#     scores, counts = get_counts_vote_all(data, category_index, topic_indices) # voting out of 9\n",
    "    all_scores += scores\n",
    "    all_counts += counts\n",
    "    percs_ordered[i] = 100 * scores / counts\n",
    "    print()\n",
    "print('all:')\n",
    "print_info_t(all_scores, all_counts)\n",
    "print('\\n------------\\n')\n",
    "\n",
    "# uber labeled fluencies\n",
    "all_fluencies = [[], [], [], []]\n",
    "for fname in file_info:\n",
    "    filename = dirname + fname\n",
    "    headers, data = get_data(filename)\n",
    "    print(fname)\n",
    "    new_scores = get_fluencies_indices(data, category_index, fluency_indices)\n",
    "    for i in range(len(all_fluencies)):\n",
    "        all_fluencies[i].extend(new_scores[i])\n",
    "    print()\n",
    "print('all:')\n",
    "print_info_f_lists(all_fluencies)\n",
    "print('total counts')\n",
    "for x in all_fluencies:\n",
    "    print(len(x))\n",
    "    \n",
    "all_scores_hist = all_fluencies"
   ]
  },
  {
   "cell_type": "markdown",
   "metadata": {},
   "source": [
    "# Plots"
   ]
  },
  {
   "cell_type": "markdown",
   "metadata": {},
   "source": [
    "## bar charts for ontopicness"
   ]
  },
  {
   "cell_type": "markdown",
   "metadata": {},
   "source": [
    "Run one of these two:"
   ]
  },
  {
   "cell_type": "code",
   "execution_count": 3,
   "metadata": {},
   "outputs": [],
   "source": [
    "# bag of words topics\n",
    "percs_ordered = np.array([[ 8.33333333, 57.77777778, 15.55555556, 64.44444444],\n",
    "                        [ 6.70391061, 28.88888889, 11.17318436, 40.55555556],\n",
    "                        [ 4.44444444, 18.88888889,  5.        , 27.22222222],\n",
    "                        [20.        , 71.66666667, 35.55555556, 69.44444444],\n",
    "                        [ 5.18518519, 56.94444444,  7.40740741, 54.16666667],\n",
    "                        [24.44444444, 49.44444444, 28.88888889, 61.66666667],\n",
    "                        [ 7.22222222, 46.66666667,  5.        , 45.        ]])\n",
    "\n",
    "# ours, theirs\n",
    "percs_wd = 100* np.array([[0.6, 0.4], # computers\n",
    "                          [0.4333333333, 0.6333333333],   # legal\n",
    "                          [0.35, 0.3333333333], # military\n",
    "                          [0.3333333333, 0.35], # politics\n",
    "                          [0.5166666667, 0.2833333333],# religion\n",
    "                          [0.55, 0.4], # science\n",
    "                          [0.5666666667,0.1], # space\n",
    "                         ]) \n",
    "percs_ctrl = 100* np.array([[0.75, 0.35], # computers\n",
    "                          [0.35, 0.25],   # legal\n",
    "                          [0., 0.], # military\n",
    "                          [0.35, 0.5], # politics\n",
    "                          [0.6, 1],# religion\n",
    "                          [0.75, 0.4], # science\n",
    "                          [0., 0.], # space\n",
    "                         ]) \n",
    "\n",
    "xlabels = ['Computers', 'Legal', 'Military', 'Politics', 'Religion', 'Science', 'Space']"
   ]
  },
  {
   "cell_type": "code",
   "execution_count": 10,
   "metadata": {},
   "outputs": [],
   "source": [
    "# discriminator and BoW together\n",
    "percs_ordered = np.array([[ 3.7037037 , 41.48148148, 28.14814815, 74.81481481], # positive\n",
    "                         [34.81481481, 37.77777778, 54.81481481, 72.59259259], # negative\n",
    "                         [36.2962963 , 33.33333333, 48.88888889, 60.74074074], # clickbait\n",
    "                         [19.25925926, 39.62962963, 41.48148148, 73.7037037 ], # p+n\n",
    "                         [24.9382716 , 37.5308642 , 43.95061728, 69.38271605], # p+n+c\n",
    "                         [11.12026359, 46.89542484, 15.815486  , 51.71568627], # bag of words\n",
    "                        ])\n",
    "xlabels = ['Positive', 'Negative', 'Clickbait', 'All sentiments', \n",
    "           'All discriminators', 'All bag of words']"
   ]
  },
  {
   "cell_type": "markdown",
   "metadata": {},
   "source": [
    "Then run this:"
   ]
  },
  {
   "cell_type": "code",
   "execution_count": 18,
   "metadata": {},
   "outputs": [
    {
     "data": {
      "image/png": "[encoded data removed]",
      "text/plain": [
       "<Figure size 1080x360 with 1 Axes>"
      ]
     },
     "metadata": {
      "needs_background": "light"
     },
     "output_type": "display_data"
    },
    {
     "data": {
      "image/png": "[encoded data removed]",
      "text/plain": [
       "<Figure size 1080x360 with 1 Axes>"
      ]
     },
     "metadata": {
      "needs_background": "light"
     },
     "output_type": "display_data"
    }
   ],
   "source": [
    "########## change params here to make chart look nicer\n",
    "bar_width = 0.19 # width of bar itself\n",
    "padded_width = 0.2 # width of bar + spacing\n",
    "method_labels = ['baseline (B)', 'gradient (BC)', 'baseline+reranking (BR)', 'gradient+reranking (BCR)']\n",
    "basecolor, gradcolor = (0.4, 0.4, 1.0), (1.0, 0.4, 0.4) # color represents gradient or no gradient\n",
    "basehatch, rerankhatch = '', '//' # hatch represents reranking or no reranking\n",
    "plt.figure(figsize=(15, 5))\n",
    "swap_grad_rerank = True # True if you want to swap the order to [baseline, rerank, grad, both]\n",
    "##########\n",
    "\n",
    "colors = [basecolor, gradcolor, basecolor, gradcolor]\n",
    "hatches = [basehatch, basehatch, rerankhatch, rerankhatch]\n",
    "middle_xs = np.arange(len(xlabels)) - 1.5 * padded_width # location of tick bars\n",
    "values_to_plot = [0, 2, 1, 3] if swap_grad_rerank else [0, 1, 2, 3]\n",
    "\n",
    "for i in range(MAX_FILES):\n",
    "    ind = values_to_plot[i] # use i for x position, ind for getting values and labels\n",
    "    plt.bar(middle_xs + padded_width * i, percs_ordered[:, ind], width=bar_width,\n",
    "            label=method_labels[ind], color=colors[ind], hatch=hatches[ind], ec='black')\n",
    "    \n",
    "plt.bar(middle_xs + padded_width * (i+1), percs_wd[:, 1], width=bar_width,\n",
    "        label='weighted decoding', color=(0.4, 0.5, 0.4), ec='black')\n",
    "\n",
    "plt.bar(middle_xs + padded_width * (i+2), percs_ctrl[:, 1], width=bar_width,\n",
    "        label='CTRL', color=(0.4, 0.8, 0.4), ec='black')\n",
    "\n",
    "\n",
    "plt.xticks(np.arange(len(xlabels)), labels=xlabels, fontsize=14)\n",
    "plt.ylabel('Attribute relevance (%)', fontsize=14)\n",
    "#plt.legend(loc=(0.8,0.7), fontsize=16)\n",
    "plt.legend(fontsize=14)\n",
    "\n",
    "\n",
    "plt.figure(figsize=(15, 5))\n",
    "\n",
    "#plt.savefig('figures/bar_topics.pdf')\n",
    "baselinecolor, ourscolor = (0.4, 0.8, 0.4), (1.0, 1.0, 1.0)\n",
    "colors = [ourscolor, baselinecolor]\n",
    "method_labels = ['Ours (BCR)', 'WD']\n",
    "\n",
    "#plt.figure(figsize=(15, 5))\n",
    "for ii in range(MAX_FILES,MAX_FILES+2):\n",
    "    i = ii - MAX_FILES\n",
    "    plt.bar(middle_xs + padded_width * ii, percs_wd[:, i], width=bar_width,\n",
    "            label=method_labels[i], color=colors[i], ec='black')\n",
    "plt.xticks(np.arange(len(xlabels)), labels=xlabels)\n",
    "plt.ylabel('percent on topic')\n",
    "plt.legend()\n",
    "\n",
    "#plt.savefig('figures/bar_discrim.pdf')\n",
    "\n",
    "plt.show()\n"
   ]
  },
  {
   "cell_type": "markdown",
   "metadata": {},
   "source": [
    "#### histograms for human labeled fluencies"
   ]
  },
  {
   "cell_type": "code",
   "execution_count": 12,
   "metadata": {},
   "outputs": [
    {
     "data": {
      "image/png": "[encoded data removed]",
      "text/plain": [
       "<Figure size 504x288 with 4 Axes>"
      ]
     },
     "metadata": {
      "needs_background": "light"
     },
     "output_type": "display_data"
    }
   ],
   "source": [
    "# histograms for human labeled fluencies\n",
    "titles = ['baseline (B)', 'gradient (BC)', 'baseline+reranking (BR)', 'gradient+reranking (BCR)']\n",
    "plt.figure(figsize=(7, 4))\n",
    "for cat in range(4):\n",
    "    plt.subplot(2, 2, cat+1)\n",
    "    plt.hist(all_scores_hist[cat], bins=0.5 + np.arange(0, 6), rwidth=1, density=True)\n",
    "    plt.axvline(np.mean(all_scores_hist[cat]), c='k', linestyle='--', label='mean')\n",
    "    plt.ylabel('fraction')\n",
    "    plt.ylim([0, 0.51]) # this is hardcoded. adjust as needed\n",
    "    #if cat < 3:\n",
    "    #    plt.xticks(range(1, 6), ['' for _ in range(5)])\n",
    "    plt.xticks(range(1, 6), [_+1 for _ in range(5)])\n",
    "    if cat > 1:\n",
    "        plt.xlabel('Fluency score')\n",
    "    plt.title(titles[cat])\n",
    "    if cat == 0:\n",
    "        plt.legend()\n",
    "plt.tight_layout()\n",
    "#plt.gcf().subplots_adjust(bottom=0.08)\n",
    "#plt.xlabel('fluency score')\n",
    "#plt.savefig('figures/fluency_sentiments.pdf')\n",
    "plt.show()"
   ]
  },
  {
   "cell_type": "code",
   "execution_count": null,
   "metadata": {},
   "outputs": [],
   "source": []
  },
  {
   "cell_type": "code",
   "execution_count": null,
   "metadata": {},
   "outputs": [],
   "source": []
  }
 ],
 "metadata": {
  "kernelspec": {
   "display_name": "Python 3",
   "language": "python",
   "name": "python3"
  },
  "language_info": {
   "codemirror_mode": {
    "name": "ipython",
    "version": 3
   },
   "file_extension": ".py",
   "mimetype": "text/x-python",
   "name": "python",
   "nbconvert_exporter": "python",
   "pygments_lexer": "ipython3",
   "version": "3.6.7"
  }
 },
 "nbformat": 4,
 "nbformat_minor": 2
}
