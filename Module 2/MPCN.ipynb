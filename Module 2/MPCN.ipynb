{
  "nbformat": 4,
  "nbformat_minor": 0,
  "metadata": {
    "colab": {
      "name": "DeepCoNN.ipynb",
      "provenance": [],
      "collapsed_sections": []
    },
    "kernelspec": {
      "name": "python3",
      "display_name": "Python 3"
    },
    "accelerator": "GPU"
  },
  "cells": [
    {
      "cell_type": "code",
      "metadata": {
        "id": "Dt9KHbl7QEkk"
      },
      "source": [
        "import torch\n",
        "import torch.nn as nn\n",
        "from torch.utils.data import Dataset, DataLoader\n",
        "import torchvision\n",
        "import torchvision.models as models\n",
        "import torchvision.transforms as transforms\n",
        "import pandas as pd\n",
        "import numpy as np\n",
        "from PIL import Image\n",
        "\n",
        "import os\n",
        "import zipfile\n",
        "import string\n",
        "!pip install fire"
      ],
      "execution_count": null,
      "outputs": []
    },
    {
      "cell_type": "code",
      "metadata": {
        "id": "i9sP2YanQKLP"
      },
      "source": [
        "device = torch.device(\"cuda:0\" if torch.cuda.is_available() else \"cpu\")\n",
        "!git clone https://github.com/deepeshhada/Neu-Review-Rec.git\n",
        "!wget -P /content/Neu-Review-Rec/pro_data/ -c \"https://s3.amazonaws.com/dl4j-distribution/GoogleNews-vectors-negative300.bin.gz\""
      ],
      "execution_count": null,
      "outputs": []
    },
    {
      "cell_type": "code",
      "metadata": {
        "id": "XIERBWXGQR5L"
      },
      "source": [
        "dataset_name = \"AmazonDigitalMusic\"\n",
        "model_name = \"MPCN\"\n",
        "\n",
        "extract_to = \"/content/Neu-Review-Rec/pro_data/\"\n",
        "root_path = \"/content/drive/My Drive/Colab Data/M.Tech. Project/datasets/Amazon/\"\n",
        "data_path = root_path + dataset_name + \"/\" + dataset_name + \".zip\"\n",
        "\n",
        "with zipfile.ZipFile(data_path, 'r') as zip_ref:\n",
        "    zip_ref.extractall(\"/content/Neu-Review-Rec/pro_data/\")"
      ],
      "execution_count": null,
      "outputs": []
    },
    {
      "cell_type": "code",
      "metadata": {
        "id": "IjADGtspJI8U"
      },
      "source": [
        "%cd /content/Neu-Review-Rec/pro_data\n",
        "# !python data_pro.py AmazonInstantVideo.json\n",
        "# !python data_pro.py AmazonLuxuryBeauty.json\n",
        "!python data_pro.py AmazonDigitalMusic.json\n",
        "# !python data_pro.py AmazonMusicalInstruments.json\n",
        "%cd /content/"
      ],
      "execution_count": null,
      "outputs": []
    },
    {
      "cell_type": "code",
      "metadata": {
        "id": "kL0q6kXMQ9LN",
        "outputId": "ee0f4c4b-1222-47a5-b83b-71c6b4dfebd3",
        "colab": {
          "base_uri": "https://localhost:8080/",
          "height": 882
        }
      },
      "source": [
        "%cd /content/Neu-Review-Rec\n",
        "!python ./main.py train --model='$model_name' --dataset='$dataset_name' --num_fea=1 --output=fm"
      ],
      "execution_count": null,
      "outputs": [
        {
          "output_type": "stream",
          "text": [
            "/content/Neu-Review-Rec\n",
            "load npy from dist...\n",
            "*************************************************\n",
            "user config:\n",
            "vocab_size => 50002\n",
            "word_dim => 300\n",
            "r_max_len => 202\n",
            "u_max_r => 13\n",
            "i_max_r => 24\n",
            "train_data_size => 51764\n",
            "test_data_size => 6471\n",
            "val_data_size => 6471\n",
            "user_num => 5543\n",
            "item_num => 3570\n",
            "batch_size => 128\n",
            "print_step => 100\n",
            "*************************************************\n",
            "loading train data\n",
            "loading val data\n",
            "train data: 51764; test data: 6471\n",
            "start training....\n",
            "2020-10-05 07:14:12  Epoch 0...\n",
            "\ttrain data: loss:121735.6667, mse: 2.3517;\n",
            "\tevaluation reslut: mse: 1.4073; rmse: 1.1863; mae: 1.0206;\n",
            "model save\n",
            "******************************\n",
            "2020-10-05 07:15:56  Epoch 1...\n",
            "\ttrain data: loss:89188.7893, mse: 1.7230;\n",
            "\tevaluation reslut: mse: 1.1145; rmse: 1.0557; mae: 0.8356;\n",
            "model save\n",
            "******************************\n",
            "2020-10-05 07:17:39  Epoch 2...\n",
            "\ttrain data: loss:76160.5466, mse: 1.4713;\n",
            "\tevaluation reslut: mse: 1.0792; rmse: 1.0388; mae: 0.8413;\n",
            "model save\n",
            "******************************\n",
            "2020-10-05 07:19:22  Epoch 3...\n",
            "\ttrain data: loss:65459.3672, mse: 1.2646;\n",
            "\tevaluation reslut: mse: 1.0153; rmse: 1.0076; mae: 0.7903;\n",
            "model save\n",
            "******************************\n",
            "2020-10-05 07:21:05  Epoch 4...\n",
            "\ttrain data: loss:59211.4786, mse: 1.1439;\n",
            "\tevaluation reslut: mse: 0.9932; rmse: 0.9966; mae: 0.7511;\n",
            "model save\n",
            "******************************\n",
            "--------------------------------------------------------------------------------\n",
            "2020-10-05 07:22:49 AmazonDigitalMusic default best_res:  0.9931598162838967\n",
            "--------------------------------------------------------------------------------\n",
            "Train MSE: [2.3517438128801302, 1.7229887439426965, 1.4713033499816095, 1.2645732023074652, 1.143873707532017]\n",
            "Val MSE: [1.4072689161918168, 1.114504521015788, 1.0791606440313484, 1.0152608947801067, 0.9931598162838967]\n",
            "Val MAE: [1.0206255788247491, 0.8355541886547916, 0.8412897996898044, 0.7903296173383383, 0.7510631745794866]\n"
          ],
          "name": "stdout"
        }
      ]
    },
    {
      "cell_type": "code",
      "metadata": {
        "id": "m32f2Q8qeZP0",
        "outputId": "cfb919a7-b132-40b8-c6a7-52f1c4310f05",
        "colab": {
          "base_uri": "https://localhost:8080/",
          "height": 342
        }
      },
      "source": [
        "!python ./main.py test --pth_path=\"./model.pth\" --model='$model_name' --dataset='$dataset_name'"
      ],
      "execution_count": null,
      "outputs": [
        {
          "output_type": "stream",
          "text": [
            "load npy from dist...\n",
            "*************************************************\n",
            "user config:\n",
            "vocab_size => 50002\n",
            "word_dim => 300\n",
            "r_max_len => 202\n",
            "u_max_r => 13\n",
            "i_max_r => 24\n",
            "train_data_size => 51764\n",
            "test_data_size => 6471\n",
            "val_data_size => 6471\n",
            "user_num => 5543\n",
            "item_num => 3570\n",
            "batch_size => 128\n",
            "print_step => 100\n",
            "*************************************************\n",
            "load model: ./model.pth\n",
            "loading test data\n",
            "2020-10-05 07:23:35: test in the test datset\n",
            "\tevaluation reslut: mse: 1.2999; rmse: 1.1401; mae: 0.7414;\n"
          ],
          "name": "stdout"
        }
      ]
    },
    {
      "cell_type": "code",
      "metadata": {
        "id": "fQz7mDgB4S_b",
        "outputId": "5e8ff909-0d23-4639-b26a-15b3eed861b8",
        "colab": {
          "base_uri": "https://localhost:8080/",
          "height": 395
        }
      },
      "source": [
        "!python ./main.py generate_conditional_sentence --pth_path=\"./model.pth\" --model='$model_name' --dataset='$dataset_name'"
      ],
      "execution_count": null,
      "outputs": [
        {
          "output_type": "stream",
          "text": [
            "load npy from dist...\n",
            "*************************************************\n",
            "user config:\n",
            "vocab_size => 50002\n",
            "word_dim => 300\n",
            "r_max_len => 202\n",
            "u_max_r => 13\n",
            "i_max_r => 24\n",
            "train_data_size => 51764\n",
            "test_data_size => 6471\n",
            "val_data_size => 6471\n",
            "user_num => 5543\n",
            "item_num => 3570\n",
            "batch_size => 128\n",
            "print_step => 100\n",
            "*************************************************\n",
            "load model: ./model.pth\n",
            "loading test data\n",
            "2020-10-05 07:43:17: generating conditional sentence...\n",
            "['the first two songs alone make this album miles ahead of the w which was practically unlistenable except for a few songs the rest of iron flag however follows the same lazy half baked pattern of the w it s slightly better than that because of quality songs like uzi and one of these days but for the most part this is the same lazy erratic wu tang clan we ve grown accoustumed to in the years since their enter the wu tang liquid swords cuban linx glory days rza needs to spend more time crafting solid beats and stop relying on gimmicks gza and inspekta deck need to get on the mic more and the whole group really needs to get together and work on recapturing the energy intelligence songwriting skill and attitude that made them great in the first place that will probably never happen again but we can dream right', 'i thought the wu dropped off a little bit with some poor solo albums and a decent outing with the w however iron flag is an improvement and a step in the right direction to get the wu back on top in the hood rules chrome wheels uzi one of these days and y all been warned are my favorite tracks the rza is back doing most of the production with some help from mathematics tru master tone poke and fury loftin the wu always have great mcing the question is whether you ll like the production or not', 'wu tang is my favorite rap group of all time but this album isnt all that great most of the beats suck and its too mainstream wasnt much raw material odb couldnt record with them also ins was in the background most of the time leaving u god and masta killa to do more than him what the hell nothing can match up to 36 chambers and anyone who says this is better than 36 chambers wu tang forever and the w must be silly in the mind worse tracks dashing soul power worse wu beat of all time what was rza thinking best tracks iron flag until it gets to the next song in the track yall been warned rules and uzi was ok had to grow into that song', 'i don t think anybody would disagree with me when i say this hasbeen the worst year for hip hop possibly ever sure jay z s album was tight but what else you have to knowthat when eve ludachris bubba sparxx nelly and trick daddyare the top players in the game that something is seriously wrong as far as the wu goes their last two albums as a group havebeen rejected by fans unfairly in my opinion and have struggledto regain the crown they held around 1994 1996 wu tang forever was waaaaaay too long and loaded with filler the w lacked a cohesive group feel and was loaded with unecessary guest appearances and iron flag to make a long story short this album is just plain incredible the highlight is the production which always keepsthe listener on their toes some beats are loud and hype inthe hood some have a west coast gangsta feel chrome wheels some sound like they came from dj premier s files rules some are smooth babies some feature wu esque samples iron flag and others are just completely unique uzi soul power the latter features a flute and drum sample that sounds like it was recorded with a tribe in the african jungle lyrically the clan is on point as usual and the weaker mcs u god rza spend less time on the mic as the stronger ones inspectah deck method man there is no filler and there isn t even one track recorded with the purpose of getting commercial airplay i don t know if this will sell a lot of copies or become one ofmtv s babies but this is definitely the album wu fans have beenwaiting for', 'i m a true wu head i ve managed to collect all of wu tang s cds solo adventures including u god s wack sh t iron flag reaches out and pulls you into a hipnotic wu state of mind until the last track ends i was highly pleased by the out come of this cd being that radio in atl didn t play any singles before it s release so this was a complete blind purchase for me but i m a wu head i don t need to hear a track when the wu gets together you just grab it other than the stale ryhmes u god continues to spitt the wu gambinos step up to the plate bashing flamable homeruns with every verse the 4th quarter of the year is mostly reserved for the quot big dogs quot to release thier music on the market this one fits in the top 10 of all releases in the 4th quarter the wu needed this one to stifle some doubters oh yeah check out nas new one much better than his last 2 releasesone', 'not bad better than previous albums definately better than quot 36 chambers quot not a bad buy', 'when i first heard it i wasnt impressed but on a few listens of this cd i realised what a quality piece of work it is rza production is tight as always and beats are bangin wu has not fallen off its only because people are stuck on the stage they were on in the past and refuse to see how much they have grown as individuals and as a group the only thing i dont like about this cd is the occasional use of some r amp b hooks in the song and the use of too much trumpets and other brass instruments but beside that its tight', 'well alot of people didn t like the last wu tang album the w mainly because some of the beats were bad the iron flag has smoother flashier beats courtesy of rza and other producers ghostface killah only rhymes on a couple of songs raekwon gza method man and u god turn in the best performances for the clan ol dirty bastard who is in prison serving a 2 to 4 prison sentence didn t get to record on iron flag so crazy public enemy rapper flavor flav guests on soul power since he is crazy and just giving shout outs on the song he sort of replaces odb s maniac energy overall the iron flag has good beatsm good rhymes by the clan so it s much better than the w', 'iron flag was abig let down because it was more mainstream than raw the album is wackk with only mediocre tracks avoid this album this is not the type of wu im accostumed too iron flag did not live up to the hype but the real question is has wu gone mainstream', 'while most criticize this album due to its departure from their typical style i believe this is a great work there are many bumpin good songs such as chrome wheels uzi pinky ring in the hood rules and one of these days all have a great beat and great melody those are the best party songs on the album and as such are my favorites sure the lyrics sometimes seem incoherent but i really admire the creativity there s nobody else in the game like these guys though i m not big on using obscenities i still and very impressed at the way these guys can string off line after line of explicit language it s the kind of stuff that makes people look at me like what the hell when i roll through my suburban neighborhood blasting this stuff i love it the shock value is phenomenal and the entertainment value is as well the wu is the real deal holyfield of hip hop none of this mainstream sell out crap that you hear on the radio all the time from your nelly s fat joe s and everyone else don t buy into people saying this is the wu s worst album sure it is different from all their other work but it certainly isn t a bad piece of work the first half of the disc is totally hott and the second half i could live without but those first 6 songs are worth it sure those songs are their closest things to mainstream but they still didn t come that close this cd has my favorite kind of hip hop foot stompin head noddin songs that sound great permeating the air of a party with rampant under age drinking if that sounds good to you then you should certainly buy this disc if not stay away', 'where here it is the one and only iron flag a lot of people hated this album and it makes me mad even true wu fans were like man why did wu release this they are ignorant trust me this album is definately hott after the w came out a year later they released this in 2001 it sort of seemed to short after the w that they released this album sort of seemed that they should have waited a little longer to put more time into it but i didnt trip on that because this album is really good lyrically and nice production wise let me break it down for you lyrically wu again does not fall off the lyrics are still on point im totally feeling the rhymes on this album some wu member shine more than others but than happens on all the albums on this album there are a couple tracks where the lyrics arent as good as some on other tracks but they are all on point they still talk on that street sh and again no mainstream commercial sh which i loved the lyrics are street in point and they drop knowledge together on the 4th clan album lyrically this album succeeds production wise this is where people are like what the f ck lol well let me explain the beats on this album are hott true street beats people said wu went mainstream with this album you have got to be kidding me seriously wow a group isnt going to make the same beats for ever production changes and you true hip hop fans know this they never stay the same 36 chambers beats arent going to be around forever though but this album is unique and banging in its own little way compared to the w there isnt as much grimyness in it a little more light in that factor but its still banging there are a couple tracks that are close to being grimey production wise this album is hott and dont let anyone tell you sh if you liked the other wu albums this album is great so let me tell you if you have already heard 36 chambers wu tang forever and the w then this is the next group album your getting 12 songs of pure hiphop there is again alot of production by rza so dont worry about anything if people tell you to not get this album dont listen to them listen to me and get it because its not mainstream commercial sounding its real hiphop like im saying cop this now and support the wu movement support wu tang clan and real hiphop and buy this my top 5 songs1 in the hood2 uzi pinky ring 3 ya ll been warned4 radioactive four assassins 5 dashing reasons', 'sometimes it s hard to be impartial when reviewing a band group artist you really like that is the case at hand but i must admit that this is by far the weakest album by wu tang i couldn t wait to buy this as soon as it came out but i heard the complete album before its release and wasnt too happy wu tang is known for their unique dark beats but this album is commercialized as far as beats go don t get me wrong though the lyrics are tight typical wu style the two people that make this album good method man and inspectah deck a suprise in this album is the improvement of the not so good cappadonna ghostface is ghostface bringing the random yet hot verses to this cut u god amp raekwon have seemed to decline lyrically over the past few years but still do a decent job on the iron flag rza amp gza both remain solid and rza has even improved lyrically rza s best work is still on wu tang forever masta killa isn t on the album that often which really isn t a good thing because he could have displayed his improvement for an example of this check out mortal kombat by afu ra below is the track rating 1 5 in the hood 5rules 5 chrome wheels 3soul power 1 the beat is so annoying uzi 4one of these days 3 5y all been warned 5babies 3radioactive 3 5back in the game 4 5iron flag 2 40 seconds of sampling dashing 4 5', 'i see alot of you giving this album 5 stars but when you look at previous works by the wu such as tical and enter the 36 chambers this mostly mediocre album cant even begin to compare dont get me wrong there are about 5 good tracks but really when you pick up a 13 song album and only 5 of the songs are good it leaves alot to be desired i think the main thing this cd suffers from is poor production as displayed on tracks like in the hood and the track with public enemy as well as various others you may be looking at some of these 5 star reviews and start thinking hmmm could this be the return of the 36 chambers h l no its not this has to be the worst wu tang album i have ever heard and believe me i am one of the biggest wu fans that ever was i am going to be generous and give this three stars but this is a solidly mediocre album those of you out there who are hatin on me for givin this a 3 stars need to get a life so what i gave it a decent review and its just as much my right to give a cd 3 stars as it is your right to give it 5 stars thats what a review is its an opinion voiced by an individual like me who has a right to think the way he wants to regardless of what other people think thats what the first amendment is all about if you dont own any wu albums skip this and pick up tical or enter the 36 chambers', 'i actually like this album unlike others the beats are here are kinda un wu like but definately hott beats you cant deny they are not good beats people just hate the beats because they arent wu style but know that the beats are good none the less in this album the beats are good alot more mainstream but hey groups evolve into different styles over time dont they the lyrics are arent as good as they are on the 3 previous albums but they dont fail they are still better than all the other lyrics that all them other artists put out there ones that are popular there is some not good tracks here but only like 2 or 3 the rest are bangers especially uzi pinky ring check that one out def this album is still a classic album dont doubt or pass this one up cop it peace', 'wu tang releasing a new album a year after their last release came as a shock to many i can t beleive this album only went gold hmm let me see loud records was nearing their end as a hip hop brand only a few manths later in 2002 loud folded this album was hardly promoted many fans think this is better than the w but not me although iron flag is not a bad album i think the w is slightly better than iron flag sure this time they recorded this one in new york instead of california as in their previous two albums wu tang forever and the w but somehow i can tell that each wu tang mc used the punch in the clock method to recording an album meaning that i can tell that they didn t lay their verses down together but seperately thus resulting in iron flag lacking that chemistry of we having fun while making this album sound it just sounds like we just making an album there are no skits where they trully bug out and at times this feels like some left overs from the w which i heard some songs are don t get me wrong iron flag is not a bad album i just feel like it s their worst to date we need a new wu tang clan album soon to close the book these labels i e universal records better be offering some good money if not rza knows what to do take it the independent route either koch records or sanctuary records or nature sounds', 'after two sub par releases the wu get back to the basics with hard production and ill lyrics on quot iron flag quot forget outkast the wu proves that they are the best rap group ever the hottest song is quot y all been warned every clan member shines on there other joints include quot back in the game quot quot babies quot quot radioactive quot quot in the hood quot and quot the uzi quot my favorite wu members are method man ghostface and inspectah deck but everyone puts it down with the lyrics on iron flag every wu fan needs this album', 'oh god another wu tang album didn t they release an album earlier this year to everyone out there the wu dynasty is over there will never be another album like their 36th chambers debut if you crave originality that the wu has lost then check out ghostface killah s bulletproof wallets he is the only real emcee worth checking out this album is only an improvement over the last one but is still below previous efforts standards', 'very frist wu album i gotten a small introduction to what the wu tang clan was all about with their 4th album as a group iron flag some of the lyrics on this album are post 9 11 this album was released december 01 as ghostface killah says who the f knocked our buildings down who s whe man behind the world trade massacre step yp now as some members express their thoughts and feelings on 9 11 who didn t talk about that event the song soul power features loud and possibly pointless yelling from p e s flava flav pinky ring was their first single which featured vocals from most members from the wu i as pre fan was very happy to hear this yall been warned is the song that method man takes over and holds some of it down meth did step his lyrics back up briefly for this album one person i have to knock is rza for comming with some wackest lyrics i ve heard from him an example just pop the cd in and listen for the first 10 seconds was that even a rhyme but that goes away and the song in the hood starts as masta killa rebel inspetah deck and method man s newest recruit streetlife the low profile members shine together on the frist track streetlife is he now part of the wu since he s on this album and the previous the w album lets hope his situation doesn t end up like capadonna s later on in the album you get to hear the wu do a colab with ronald isley in the song back in the game as ins meth genius finally he comes correct too on this song rae and ghostface handle this song for some older wu members this may anger them but i like it and has became one of my favorite tracks the song behind the title track iron flag is the glock which is pretty pointless as good thing we brought the glock is repeated after every line someone says the last track dashing is a good way to close out the cd was inspectah deck begins singging beginning to a famous christmas song but the genius closes the song off ending the album on a good note some songs the production is not on point and comes off kind of soft on such songs such as iron flag but it doesn t make the song that bad other things that could have used improvement is the lyrical content mr bobby digital aka rza can come up with some of the most unthoughtul lyrics ever the guest appearances on the track chrome wheels is not all that good and the genius i hate saying this comes at the begininng of the album meidocore but fixes that problem towards the end and i can t go without saying that some vocals from ol dirty bastard would be appriciated to this album as much as his voice is recycled since he died you d question why didn t they do this much while he was locked up not to mention that capadonna would have been a good addition to the album much older wu fans may not appriciate this release because of how they ve became more softer as time went on from their debut but after hearing this it would make you dust off the 36 chambers album for you to bring back memories newer fans like i was when this was released would find it to be enjoyable to listens to i recommend this to new fans new meaning post forever fans of the wu people considered this was the worst anything from the wu tang has ever made that was until method man s tical o and raekwon s the lex diamond story came out later on now this below average album sounds like one of the best they released since 1997 probably since they droped as a group every 3 years previously this cd was released too fast after the w 2000 thats why i m not mad at people giving this album 3 or 4 stars i for one like this and don t believe that fans should bash this one pick up a copy and enjoy it lyrics bproduction b guest appearances c overall b standout tracks rules uzi pinky ring ya ll been warned back in the game dashing reasons', 'i was content when ghostface killah came out with his quot bulletproof wallets quot but then i hear that the entire wu tang clan is coming out with a lp soon called quot iron flag quot well i was reluctant to go out and buy it right away due to their last lp together the w which was wack to me well i bought it and i am glad i did this is the wu tang clan that i remembered this lp is classic rza production laced with the clan s style of quot dart throwing quot aka spittin lyrics the beats are good and the rhymes are rapid just like the old days get this album but there are draw backs to the lp the guest spots flavor flav and ronald isley what s the deal with that plus where is cappadonna is he still with the clan anyway with that it can t take anything away from the quality of this album the mvp of iron flag in my opinion is rza for the beats he went back to the sampling formula this time around the usual suspects like ghost rae meth ins and gza holds it down u god and masta killah did their thing too so with that get the album it is way better than quot the w quot and wu tang is still showing you that they are nothin to f wit', 'the wu is back for their 4th group album just 13 months since thir last group album was released better then the w but not as good as their first 2 classic albums no cappadonna or ol dirty bastard r i p are on this one however there is a few guests ron isley prodigal son 12 o clock all are on one song and street life madame d are on 2 songs each a few members are on many songs rae ghost deck and masta are all on at least half while other are on less than half of the songs meth rza gza u god it only has 12 songs but of them there is one classic 2 near classics 6 good songs 1 or 2 i skip and 1 or 2 that s ok production is mostly by the rza 8 songs with mathematics true master poke tone and fury all doing 1 song a must have for any wu fan 1 9 ins deck rae masta street life 2 8 5 ghost meth masta street life 3 8 5 rae rza prodigal son 12 o clock madame d 4 6 5 ghost masta rae u god 5 8 ghost gza masta meth rae rza ins deck u god 6 9 5 ins deck rae u god 7 9 ins deck meth masta rae rza 8 5 5 slower song ghost gza rae madame d 9 8 gza meth masta rae 10 7 5 ghost gza ins deck meth rae ron isley 11 9 5 good beat ghost ins deck masta rae rza u god 12 10 classic remake of dashing through the snow ins deck gza raekwon corey woods b 1 12 68 staten island nymasta killa elgin turner brooklyn nyinspectah deck jason hunter b 7 6 around70 staten island nyghostface killah dennis coles b around 1972 stapleton staten island nygza genius gary grice b 8 22 66 staten island nymethod man clifford smith b 4 1 71 b hempstead long island ny moved to staten island nyrza robert diggs b around 1968 b brooklyn ny moved to staten island nyu god lamont hawkins new york nywu tang clan check all my reviews', 'first the fatboys breakup and now this to be honest this might actually be an outstanding piece of american music i just cant make it past the fourth track i ve tried and tried but this sh t drags after this it is official i am turnin in my wu card', 'i like flava flav s appearance a lot maybe not their best album but good still i usually like to listen to the whole discography if i like the artist this album will not disappoint', 'this is the first wu tang album i got i got it from 2nd hand cd shop and this one is nice i have hear the w at my friend s house and i think this one is better than the w quot in the hood quot is one of the best song in here 9 10 quot rules quot 1 of my favorite too 10 10 quot chrome wheels quot first time i hear this track i don t like it but listen the whole album and compare with other songs this one is quite okay and i start to like this song 8 10 quot soul power quot i love this beat hot track 10 10 quot uzi quot single from this album really nice song with all wu member rappin on it my favorite song 10 10 quot one of these days quot not a bad song but i always skip it 6 5 10 quot ya ll been warned quot see above 7 10 quot babies quot a slow track start with a jazz sample another song that i don t really like 7 10 quot radioactive quot um no comment only listen it when i m in mood 7 10 quot back in the game quot another mediocre song 7 10 quot iron flag quot this one got little bit better cause the beat is better 7 5 10 quot the dashing quot uh this one is a nice track catchy chorus 8 5 10overall if you re fan of wu tang this one won t disappointed you but this one is really not a really great album first 5 songs is really great but after quot uzi quot all songs is so so if those song quality keep better like the first half of the album this should be a tight release anyway worth check out but if you wanna try wu tang clan you must go get their debut quot wu tang clan 36 chambers quot which is a true classic', 'true wu tang fans will be a little disapointed in this album due to the fact that there are many hooks on the songs and that the beats and lyrics are more watered down than albums like quot wu tang forever quot and all the first wu solo releases however the album is better than the pathetic quot the w quot cd which was an embarresment to the clan s reputation it would be nice to see the wu tang clan return to more experimental beats and rhymes ie wu tang forever supreme clientele as the beats are not that cutting edge on this album over all the album is good but their are no real suprises as they are still going after the mainstream audience but not as bad as quot the w quot', 'didn t like this album at first but i ve been listening to it all the way through a few times over the last few days first got it about a year ago so i was surprised to find myself liking it some of the lyrics aren t as good as some other wu tang stuff but the whole thing is pretty tight most of the members shine throughout the album actually especially gza inspectah deck method man and u god beats aren t typical wu tang stuff but they re banging some of them may have to grow on you though i hated chrome wheels radioactive and soul power at first for example overall it probably has to grow on you but its a really nice album top 5 songs uziradioactiveya ll been warnedthe w bonus track full version of interlude from the w babies', 'this is a good cd i was shocked that this didn t really sell when it came out though no odb rip they still find a way to hold together this shows that they could still make good music rza does all the production except for one song guest appearances include streetlife flavor flav and ron isley also add new feelings to the wu sound favorites include in the hood rules soul power black jungle uzi pinky ring one of these days ya ll been warned babies radioactive four assassins back in the game iron flag and dashing reasons that basically the whole cd highly highly recommended', 'sometimes it s hard to be impartial when reviewing a band group artist you really like that is the case at hand but i must admit that this is by far the weakest album by wu tang i couldn t wait to buy this as soon as it came out but i heard the complete album before its release and wasnt too happy wu tang is known for their unique dark beats but this album is commercialized as far as beats go don t get me wrong though the lyrics are tight typical wu style the two people that make this album good method man and inspectah deck a suprise in this album is the improvement of the not so good cappadonna ghostface is ghostface bringing the random yet hot verses to this cut u god amp raekwon have seemed to decline lyrically over the past few years but still do a decent job on the iron flag rza amp gza both remain solid and rza has even improved lyrically rza s best work is still on wu tang forever masta killa isn t on the album that often which really isn t a good thing because he could have displayed his improvement for an example of this check out mortal kombat by afu ra below is the track rating 1 5 in the hood 5rules 5 chrome wheels 3soul power 1 the beat is so annoying uzi 4one of these days 3 5y all been warned 5babies 3radioactive 3 5back in the game 4 5iron flag 4dashing 4 5', 'i m a huge wu fan i even have the playstation shaolin style game but this wu tang album was complete garbage this was by far their worst album if you think this album is better than the w then you seriously need your head examined there s hardly any good songs and definitely no classic songs on this joint the first problem is they let masta killa and u god rap on the mic too much why did they let these lames rap so much there is minimal appearances from ghostface killah and method man rza raps too much on this album absence of odb and the beats are severely lacking even with rza producing some cuts the beats are weak the first single off the album and only single uzi pinky rings is incredibly lame i remember how dissappointed i was when i got this for christmas two years ago i had a long list of cd s i wanted but i put this down as a must have and that s what i got and it was pure wackness i couldn t even bootleg the cd nobody wanted it the only song worth anything would have to be one of these days and it s not that good if you have this try to sell it and if you thinking about getting this cd keep on thinking a huge disappointment i never thought i would do this to the legendary wu tang clan but this album receives zero stars awful', 'as it was written wu tang ain t nuthin to f with but this album was not good maybe 3 above average tracks and the rest are average and nothing special at all not bad not good', 'ghostface supposrts bush on this what an uncle tom negro besides that the album has some good beats but the lyrics are pure garbage no substance what so ever buy nas instead', 'even in an increasingly crowded hip hop landscape an album by the full wu tang clan will always be an event mostly that s due to the continuing influence of the long island collective s landmark 93 debut enter the wu tang an outing so strong that even casual fans still hope its success can be repeated unsurprisingly iron flag doesn t recapture that claustrophobic brilliance but it s still better than either of the follow ups 1997 s wu tang forever and last year s w while the rza s production hardly touches on the disorienting murk of yesteryear the bright horn samples and upfront beats of new tracks like one of these days and the outstanding uzi pinky ring are a surprisingly good substitute the missing ingredient throughout of course is jailed clan member ol dirty bastard whose erratic charisma is sorely missed and poorly replaced by his spiritual godfather flavor flav on soul power still having a trio of mcs as powerful as method man raekwon and ghostface killah insures the rhymes will stay interesting with the typically grungy crime story babies and the neo patriotic rules the best examples', 'definitely the most disappointing of all of the wu albums even if you are a wu fan this is an album you can pass on', 'on point lyrics as always from the wu brothers some cool production but some that lags doesn t stand up becuase it s just not very solid definately a step up from the w which in my ears wasn t very lyrically intense and the production was plain clunky for 2 3rds of the cd i know what they were trying to achieve they didn t honestly do it with iron flag but they still made a damn good listen peace', 'let s get one thing clear inspectah deck gza and masta killa hold this whole darn album down raekwon does have one of his better lyrical moments on iron flag but he mostly stays in his flip phone granola mottorola icy frame of spitting ghostface is slightly sub par probably still shaking the lyrical dust off from his excentric slightly rushed and somewhat incomplete bullet proof wallets album rza isn t bad he avoids the digital bullet pitfalls and comes here with the prime beats tweaked with horns some decent flows and even a hilarious album intro u god plays his supporting cast role to perfection as usual they even find a way to add pe member flava flav for a catchy hook even though he talks too much towards the end of the track but collectively the wu offers listeners a good album the album doesn t really strike you at first apart from the three mcs powerful lyrical bursts mentioned at the very top it s the kind of album that will grow on you with time coming off of the success of the w and now quickly delivering iron flag the wu shows that they still have it the legacy is still intact they haven t fallen off yet', 'the production on this cd is terrible and so are most of the lyrics even the dismal w was better then this sh t']\n",
            "this latest bad boy album is far the best bad boy family album to come out but that isn t hard is it it still isn t good but he s making progress cause if i listen to his previous quot no way out quot damn i just wanna poke out my eyes it s that bad this is slightly better though but i think puff has to try a little harder and hire some talented people for his crew cause they re all wack exept for quot black rob quot i give this album 2 stars and not one cause i like the cover of the album i like some of the beats wich are probably ripped off black rob and quot child of the ghetto quot wich is the only really good song on the album puff why don t you try a little harder it s actually kind of sad to sea how such a great label back in 1995 and all has gone pop but that s just a part of the game i guess well i ll probably give you a short summary bout this album for those who do want to buy the album the best songs on the album are quot child of the ghetto quot simply the only all round good song and that s it but there are also some decent beats like quot the saga continues quot quot bad boy for life quot quot diddy quot quot lonely quot quot if you want this money quot and that s crazy isn t bad but the rest of the album isn t really worth its money if you ask me but the choice is yours off course\n",
            "this is the first wu tang album i got i got it from 2nd hand cd shop and this one is nice i have hear the w at my friend s house and i think this one is better than the w quot in the hood quot is one of the best song in here 9 10 quot rules quot 1 of my favorite too 10 10 quot chrome wheels quot first time i hear this track i don t like it but listen the whole album and compare with other songs this one is quite okay and i start to like this song 8 10 quot soul power quot i love this beat hot track 10 10 quot uzi quot single from this album really nice song with all wu member rappin on it my favorite song 10 10 quot one of these days quot not a bad song but i always skip it 6 5 10 quot ya ll been warned quot see above 7 10 quot babies quot a slow track start with a jazz sample another song that i don t really like 7 10 quot radioactive quot um no comment only listen it when i m in mood 7 10 quot back in the game quot another mediocre song 7 10 quot iron flag quot this one got little bit better cause the beat is better 7 5 10 quot the dashing quot uh this one is a nice track catchy chorus 8 5 10overall if you re fan of wu tang this one won t disappointed you but this one is really not a really great album first 5 songs is really great but after quot uzi quot all songs is so so if those song quality keep better like the first half of the album this should be a tight release anyway worth check out but if you wanna try wu tang clan you must go get their debut quot wu tang clan 36 chambers quot which is a true classic\n"
          ],
          "name": "stdout"
        }
      ]
    },
    {
      "cell_type": "code",
      "metadata": {
        "id": "h-AWQmsXkbB0"
      },
      "source": [
        "# test = np.load(\"/content/Neu-Review-Rec/dataset/AmazonDigitalMusic/train/plainUserReviews.npy\", allow_pickle=True).item()\n",
        "# print(test[5540])\n",
        "# print(test[2,0])"
      ],
      "execution_count": null,
      "outputs": []
    }
  ]
}