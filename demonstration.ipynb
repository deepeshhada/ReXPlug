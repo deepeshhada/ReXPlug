{
  "nbformat": 4,
  "nbformat_minor": 0,
  "metadata": {
    "colab": {
      "name": "Run ReXPlug.ipynb",
      "provenance": [],
      "collapsed_sections": []
    },
    "kernelspec": {
      "name": "python3",
      "display_name": "Python 3"
    },
    "accelerator": "GPU"
  },
  "cells": [
    {
      "cell_type": "code",
      "metadata": {
        "id": "v-0CDF_kYJn4"
      },
      "source": [
        "import numpy as np\r\n",
        "import pandas as pd\r\n",
        "import os, zipfile, time, sys, pickle\r\n",
        "!pip install \"transformers==2.5.1\""
      ],
      "execution_count": null,
      "outputs": []
    },
    {
      "cell_type": "code",
      "metadata": {
        "id": "3jqGvNE-YSUd"
      },
      "source": [
        "%cd /content/\r\n",
        "!git clone https://github.com/deepeshhada/ReXPlug\r\n",
        "%cd /content/ReXPlug/"
      ],
      "execution_count": null,
      "outputs": []
    },
    {
      "cell_type": "markdown",
      "metadata": {
        "id": "cLmZ1N0CCkrW"
      },
      "source": [
        "# Pre-process"
      ]
    },
    {
      "cell_type": "code",
      "metadata": {
        "id": "KVEGROz_Yh3H"
      },
      "source": [
        "python preprocess.py --dataset_name=\"AmazonDigitalMusic\" --split_idx=\"1\" --truncate_after=100000"
      ],
      "execution_count": null,
      "outputs": []
    },
    {
      "cell_type": "markdown",
      "metadata": {
        "id": "fRQRHPheCr-b"
      },
      "source": [
        "# Train ReXPlug"
      ]
    },
    {
      "cell_type": "code",
      "metadata": {
        "id": "DMa1eKOEYZx2"
      },
      "source": [
        "python train_rrca --dataset_name=\"AmazonDigitalMusic\" --batch_size_rrca=256 --learning_rate_rrca=0.002 --num_epochs_rrca=150"
      ],
      "execution_count": null,
      "outputs": []
    },
    {
      "cell_type": "code",
      "metadata": {
        "id": "Z6yZjTPbdUAr"
      },
      "source": [
        "python train_discrim.py --dataset_name=\"AmazonDigitalMusic\" --pretrained_model=\"gpt2-medium\" --batch_size=64 --learning_rate=0.002 --epochs=3"
      ],
      "execution_count": null,
      "outputs": []
    },
    {
      "cell_type": "markdown",
      "metadata": {
        "id": "kPW3jT6NCwqO"
      },
      "source": [
        "# Test and Generate"
      ]
    },
    {
      "cell_type": "code",
      "metadata": {
        "id": "8bPNVRN386_m"
      },
      "source": [
        "!python test.py --length=150 --num_iterations=1 --temperature=1 --sample --gamma=1 --gm_scale=0.875 --kl_scale=0.01 --num_reviews=5"
      ],
      "execution_count": null,
      "outputs": []
    }
  ]
}